{
 "cells": [
  {
   "cell_type": "code",
   "execution_count": 6,
   "metadata": {},
   "outputs": [
    {
     "data": {
      "text/plain": [
       "['Electric Utilities',\n",
       " 'Communications Equipment',\n",
       " 'Life Sciences Tools & Services',\n",
       " 'Health Care REITs',\n",
       " 'Electronic Equipment & Instruments',\n",
       " 'Application Software',\n",
       " 'Asset Management & Custody Banks',\n",
       " 'IT Consulting & Other Services',\n",
       " 'Casinos & Gaming',\n",
       " 'Health Care Distributors',\n",
       " 'Air Freight & Logistics',\n",
       " 'Automobile Manufacturers',\n",
       " 'Diversified Banks',\n",
       " 'Specialty Chemicals',\n",
       " 'Publishing',\n",
       " 'Integrated Telecommunication Services',\n",
       " 'Packaged Foods & Meats',\n",
       " 'Construction Machinery & Heavy Transportation Equipment',\n",
       " 'Consumer Finance',\n",
       " 'Passenger Airlines',\n",
       " 'Financial Exchanges & Data',\n",
       " 'Health Care Equipment',\n",
       " 'Oil & Gas Exploration & Production',\n",
       " 'Restaurants',\n",
       " 'Life & Health Insurance',\n",
       " 'Industrial Machinery & Supplies & Components',\n",
       " 'Insurance Brokers',\n",
       " 'Homebuilding',\n",
       " 'Heavy Electrical Equipment',\n",
       " 'Biotechnology',\n",
       " 'Rail Transportation',\n",
       " 'Hotel & Resort REITs',\n",
       " 'Multi-Utilities',\n",
       " 'Oil & Gas Refining & Marketing',\n",
       " 'Tobacco',\n",
       " 'Systems Software',\n",
       " 'Multi-Family Residential REITs',\n",
       " 'Investment Banking & Brokerage',\n",
       " 'Hotels, Resorts & Cruise Lines',\n",
       " 'Semiconductors']"
      ]
     },
     "execution_count": 6,
     "metadata": {},
     "output_type": "execute_result"
    }
   ],
   "source": [
    "from src.db.database import session_scope\n",
    "from src.db import models\n",
    "\n",
    "with session_scope() as session:\n",
    "    res = session.query(models.Firms.sector).distinct().all()\n",
    "    res = [r[0] for r in res]\n",
    "\n",
    "res"
   ]
  },
  {
   "cell_type": "markdown",
   "metadata": {},
   "source": [
    "# Llama-Index Text-To-SQL Retrieval Agent\n",
    "### Thoughts:\n",
    "- Too inconsistent in its performance\n",
    "- Easily makes up facts in the absence of results\n",
    "- Isn't really able to grasp the full context of the data structure and meaning\n",
    "- Underlying functionality difficult to modify, particularly the prompt template for the text-to-sql process prior to response synthesis."
   ]
  },
  {
   "cell_type": "code",
   "execution_count": 7,
   "metadata": {},
   "outputs": [
    {
     "name": "stdout",
     "output_type": "stream",
     "text": [
      "SQL Query:\n",
      "```\n",
      "SELECT m.meeting_id, m.title, m.content\n",
      "FROM meetings m\n",
      "JOIN firms f ON m.firm_attended_id = f.firm_id\n",
      "WHERE f.sector = 'IT Consulting & Other Services'\n",
      "ORDER BY m.date\n",
      "LIMIT 5;\n",
      "```\n",
      "Response:\n"
     ]
    },
    {
     "data": {
      "text/markdown": [
       "<b>The first 5 meetings attended by firms in the IT Consulting & Other Services sector are as follows:\n",
       "1. Meeting with Accenture: Discussed potential synergies, tech innovations, data analytics, regulatory changes, and improved communication channels.\n",
       "2. Call with Cognizant: Discussed collaboration opportunities, growth in digital services, key sectors for investment, and regulatory challenges.\n",
       "3. Call with Accenture: Discussed Verizon's market performance, investment in 5G technology, competition, customer retention strategies, and potential for M&A.\n",
       "4. Call with Cognizant: Discussed Incyte's pipeline developments, GE HealthCare's market position, Entergy's regulatory challenges, and Gilead Sciences' acquisitions.\n",
       "5. Email with Cognizant: Discussion on potential collaborations with IQVIA, Yum! Brands, Host Hotels & Resorts, and Cummins.</b>"
      ],
      "text/plain": [
       "<IPython.core.display.Markdown object>"
      ]
     },
     "metadata": {},
     "output_type": "display_data"
    },
    {
     "data": {
      "text/html": [
       "<div>\n",
       "<style scoped>\n",
       "    .dataframe tbody tr th:only-of-type {\n",
       "        vertical-align: middle;\n",
       "    }\n",
       "\n",
       "    .dataframe tbody tr th {\n",
       "        vertical-align: top;\n",
       "    }\n",
       "\n",
       "    .dataframe thead th {\n",
       "        text-align: right;\n",
       "    }\n",
       "</style>\n",
       "<table border=\"1\" class=\"dataframe\">\n",
       "  <thead>\n",
       "    <tr style=\"text-align: right;\">\n",
       "      <th></th>\n",
       "      <th>meeting_id</th>\n",
       "      <th>title</th>\n",
       "      <th>content</th>\n",
       "    </tr>\n",
       "  </thead>\n",
       "  <tbody>\n",
       "    <tr>\n",
       "      <th>0</th>\n",
       "      <td>b1df9bfc-febd-44d2-9cf4-ae5e905953d5</td>\n",
       "      <td>Meeting with Accenture</td>\n",
       "      <td>- Discussed potential synergies between our fi...</td>\n",
       "    </tr>\n",
       "    <tr>\n",
       "      <th>1</th>\n",
       "      <td>93ee4cf5-ca97-48ce-ac42-e9b01e83c605</td>\n",
       "      <td>Call with Cognizant</td>\n",
       "      <td>- Discussed potential collaboration opportunit...</td>\n",
       "    </tr>\n",
       "    <tr>\n",
       "      <th>2</th>\n",
       "      <td>6539b388-0b71-4ed4-b792-a3088d7496c6</td>\n",
       "      <td>Call with Accenture</td>\n",
       "      <td>- Discussed Verizon's recent market performanc...</td>\n",
       "    </tr>\n",
       "    <tr>\n",
       "      <th>3</th>\n",
       "      <td>18d357db-b908-4360-8054-3c16bccbba8f</td>\n",
       "      <td>Call with Cognizant</td>\n",
       "      <td>- Discussed Incyte's recent pipeline developme...</td>\n",
       "    </tr>\n",
       "    <tr>\n",
       "      <th>4</th>\n",
       "      <td>8cb7004e-07f8-4180-b1cd-acf71a3a6a2b</td>\n",
       "      <td>Email with Cognizant</td>\n",
       "      <td>Subject: Discussion on Potential Collaboration...</td>\n",
       "    </tr>\n",
       "  </tbody>\n",
       "</table>\n",
       "</div>"
      ],
      "text/plain": [
       "                             meeting_id                   title  \\\n",
       "0  b1df9bfc-febd-44d2-9cf4-ae5e905953d5  Meeting with Accenture   \n",
       "1  93ee4cf5-ca97-48ce-ac42-e9b01e83c605     Call with Cognizant   \n",
       "2  6539b388-0b71-4ed4-b792-a3088d7496c6     Call with Accenture   \n",
       "3  18d357db-b908-4360-8054-3c16bccbba8f     Call with Cognizant   \n",
       "4  8cb7004e-07f8-4180-b1cd-acf71a3a6a2b    Email with Cognizant   \n",
       "\n",
       "                                             content  \n",
       "0  - Discussed potential synergies between our fi...  \n",
       "1  - Discussed potential collaboration opportunit...  \n",
       "2  - Discussed Verizon's recent market performanc...  \n",
       "3  - Discussed Incyte's recent pipeline developme...  \n",
       "4  Subject: Discussion on Potential Collaboration...  "
      ]
     },
     "metadata": {},
     "output_type": "display_data"
    }
   ],
   "source": [
    "import os\n",
    "from dotenv import load_dotenv\n",
    "from IPython.display import Markdown, display\n",
    "import pandas as pd\n",
    "\n",
    "from llama_index.core import SQLDatabase\n",
    "from llama_index.llms.openai import OpenAI\n",
    "from llama_index.core.indices.struct_store.sql_query import (\n",
    "    SQLTableRetrieverQueryEngine,\n",
    ")\n",
    "from llama_index.core.objects import (\n",
    "    SQLTableNodeMapping,\n",
    "    ObjectIndex,\n",
    "    SQLTableSchema,\n",
    ")\n",
    "from llama_index.core import VectorStoreIndex, PromptTemplate\n",
    "\n",
    "from src.db.database import engine\n",
    "from src.db import models\n",
    "\n",
    "\n",
    "load_dotenv()\n",
    "\n",
    "\n",
    "OPENAI_API_KEY = os.getenv(\"OPENAI_API_KEY\")\n",
    "\n",
    "\n",
    "llm = OpenAI(temperature=0.1, model=\"gpt-4o-mini\", api_key=OPENAI_API_KEY)\n",
    "\n",
    "sql_database = SQLDatabase(engine)\n",
    "\n",
    "table_node_mapping = SQLTableNodeMapping(sql_database)\n",
    "\n",
    "table_schema_objs = [\n",
    "    (SQLTableSchema(table_name=table.__tablename__, context_str=table.__context_str__)) \n",
    "    for table in models.__dict__.values() if hasattr(table, '__tablename__')\n",
    "]\n",
    "\n",
    "obj_index = ObjectIndex.from_objects(\n",
    "    table_schema_objs,\n",
    "    table_node_mapping,\n",
    "    VectorStoreIndex,\n",
    ")\n",
    "\n",
    "response_synthesis_prompt_str = (\n",
    "    \"Given an input question, synthesize a response from the query results. \\\n",
    "    You must ensure your response is completely factual.\\n\"\n",
    "    \"<query>{query_str}</query>\\n\"\n",
    "    \"<sql>{sql_query}</sql>\\n\"\n",
    "    \"<sql response>SQL Response: {context_str}</sql response>\\n\"\n",
    "    \"Response: \"\n",
    ")\n",
    "response_synthesis_prompt = PromptTemplate(\n",
    "    response_synthesis_prompt_str,\n",
    ")\n",
    "\n",
    "query_engine = SQLTableRetrieverQueryEngine(\n",
    "    sql_database, obj_index.as_retriever(similarity_top_k=1),\n",
    "    response_synthesis_prompt=response_synthesis_prompt,\n",
    ")\n",
    "\n",
    "# query = \"What are the fields in the meetings table and what do they represent contextually?\"\n",
    "# query = \"Using just your provided system messaging and without using SQL, \\\n",
    "#     What are the fields in the meetings table and what do they represent contextually?\"\n",
    "# query = \"What is the name of the firm that has the most meetings and how many meets do they have?\"\n",
    "# query = \"Can you show me the first 5 rows of meetings?\"\n",
    "query = \"Fetch the first 5 meetings and their content which have a firm attended that are in the IT Consulting & Other Services sector.\"\n",
    "response = query_engine.query(query)\n",
    "\n",
    "print(\"SQL Query:\")\n",
    "print(\"```\\n\" + response.metadata[\"sql_query\"] + \"\\n```\")\n",
    "print(\"Response:\")\n",
    "display(Markdown(f\"<b>{response}</b>\"))\n",
    "if \"result\" in response.metadata:\n",
    "    display(pd.DataFrame(response.metadata[\"result\"], columns=response.metadata[\"col_keys\"]))"
   ]
  },
  {
   "cell_type": "markdown",
   "metadata": {},
   "source": [
    "# Custom Simplified Implementation\n",
    "- Much slower\n",
    "- Has chain of thought reasoning with verbosity\n",
    "- Still has issues constructing queries\n",
    "- Need to consider how the information is presented back to the User in a memory-friendly way\n",
    "    - Can return just beam_ids as part of the retrieval?\n",
    "        - This can be added to the user's 'meetings in-focus' view?\n",
    "    - Can return as markdown (BIG CONTEXT ISSUE)"
   ]
  },
  {
   "cell_type": "code",
   "execution_count": 8,
   "metadata": {},
   "outputs": [
    {
     "name": "stdout",
     "output_type": "stream",
     "text": [
      "CHAIN OF THOUGHTS:\n",
      "Thoughts: I need to retrieve the beam_ids from the meetings table where the date of the meeting is between 2022-01-01 and 2023-01-01. Additionally, I need to filter the results based on the firms that attended the meetings, specifically those in the 'IT Consulting & Other Services' sector.\n",
      "Outcome: I will need to join the meetings table with the firms table through the firm_attended_id to access the sector information. \n",
      "\n",
      "Thoughts: The date filter will be applied to the date column in the meetings table. I will also need to ensure that the sector filter is applied to the firms table.\n",
      "Outcome: I will add a filter for the date range and the sector in the SQL query. \n",
      "\n",
      "Thoughts: The final query should select the beam_id from the meetings table, joining it with the firms table to filter by sector and applying the date range filter.\n",
      "Outcome: The fields will include meetings.beam_id, and I will join meetings with firms on firm_attended_id and firm_id. \n",
      "\n",
      "SQL QUERY:\n",
      "```\n",
      "SELECT meetings.beam_id\n",
      "FROM meetings\n",
      "JOIN meeting_firms ON meetings.meeting_id = meeting_firms.meeting_id\n",
      "JOIN firms ON meeting_firms.firm_id = firms.firm_id\n",
      "WHERE meetings.date BETWEEN '2022-01-01' AND '2023-01-01'\n",
      "AND firms.sector = 'IT Consulting & Other Services';\n",
      "```\n",
      "|    | meetings.beam_id                     |\n",
      "|---:|:-------------------------------------|\n",
      "|  0 | 77af5276-b25e-4528-a213-750898f73e13 |\n",
      "|  1 | c3e74177-a5a3-4f0c-86a7-64e193cd3397 |\n",
      "|  2 | 229ed719-c48f-405e-97e6-dee990e088ec |\n",
      "|  3 | 1a52c9d5-6b5a-4536-a4d7-508c51acba4a |\n",
      "|  4 | 7fc7f50f-2d05-4c1b-8f86-56aed7458a0c |\n",
      "|  5 | 50264cc5-a133-4207-9e84-469ca08a12ce |\n",
      "|  6 | 4b9f2b97-4978-4195-89f3-6a116c92bd76 |\n"
     ]
    }
   ],
   "source": [
    "from src.db.database import session_scope\n",
    "from src.rag.sql_retriever import SQLAgent\n",
    "\n",
    "\n",
    "agent = SQLAgent(llm, \"src/db/models.py\", verbose=True)\n",
    "\n",
    "# query = \"I need all meetings between 2022-01-01 and 2023-01-01 where the firms that attended are in the Energy sector.\"\n",
    "query = \"Return the beam_ids of all meetings between 2022-01-01 and 2023-01-01 where the firms that attended are in the IT Consulting & Other Services sector.\"\n",
    "\n",
    "with session_scope() as session:\n",
    "    response = agent.complete(session, query)\n",
    "\n",
    "response_md = response.to_markdown(index=True)\n",
    "\n",
    "print(response_md)"
   ]
  },
  {
   "cell_type": "markdown",
   "metadata": {},
   "source": [
    "# Some additional tests"
   ]
  },
  {
   "cell_type": "code",
   "execution_count": 45,
   "metadata": {},
   "outputs": [],
   "source": [
    "with session_scope() as session:\n",
    "    res = (\n",
    "        session.query(models.Meetings)\n",
    "        .filter(models.Meetings.date >= \"2025-01-15\", models.Meetings.date <= \"2025-02-15\")\n",
    "        .all()\n",
    "    )\n",
    "    for meeting in res:\n",
    "        meeting.employees\n",
    "    \n",
    "\n",
    "res = [x for y in [[str(y.employee_id) for y in x.employees] for x in res] for x in y]\n",
    "user_id = pd.Series(res).value_counts().sort_values(ascending=False).index[0]"
   ]
  },
  {
   "cell_type": "code",
   "execution_count": 46,
   "metadata": {},
   "outputs": [
    {
     "data": {
      "text/plain": [
       "2"
      ]
     },
     "execution_count": 46,
     "metadata": {},
     "output_type": "execute_result"
    }
   ],
   "source": [
    "with session_scope() as session:\n",
    "    res = (\n",
    "        session.query(models.Meetings)\n",
    "        .filter(\n",
    "            models.Meetings.date >= \"2025-01-15\", \n",
    "            models.Meetings.date <= \"2025-02-15\",\n",
    "            models.Meetings.employees.any(models.Employees.employee_id == user_id)\n",
    "        )\n",
    "        .all()\n",
    "    )\n",
    "\n",
    "len(res)"
   ]
  },
  {
   "cell_type": "code",
   "execution_count": 47,
   "metadata": {},
   "outputs": [
    {
     "name": "stdout",
     "output_type": "stream",
     "text": [
      "CHAIN OF THOUGHTS:\n",
      "Thoughts: I need to retrieve a summary of meetings attended by a specific employee within the last month. The employee's ID is provided, and the current date is given as 2025-02-15. I will need to filter the meetings based on the date range from 2025-01-15 to 2025-02-15.\n",
      "Outcome: I will filter the meetings based on the date column to include only those that fall within the last month. \n",
      "\n",
      "Thoughts: The meetings attended by employees are stored in the 'employee_meetings' association table, which links employees to meetings. I will need to join this table with the 'meetings' table to get the meeting details.\n",
      "Outcome: I will join the 'employee_meetings' table with the 'meetings' table to retrieve the relevant meeting information. \n",
      "\n",
      "Thoughts: I need to select relevant fields from the meetings table, such as title, content, date, and created_at, to provide a summary of the meetings attended.\n",
      "Outcome: I will select the title, content, date, and created_at fields from the meetings table. \n",
      "\n",
      "SQL QUERY:\n",
      "```\n",
      "SELECT meetings.title, meetings.content, meetings.date, meetings.created_at\n",
      "FROM employee_meetings\n",
      "JOIN meetings ON employee_meetings.meeting_id = meetings.meeting_id\n",
      "WHERE employee_meetings.employee_id = 'ed69b4cb-7104-427c-bf5d-fc3c4083138e'\n",
      "AND meetings.date BETWEEN '2025-01-15' AND '2025-02-15';\n",
      "```\n",
      "|    | meetings.title         | meetings.content                                                                                                          | meetings.date             | meetings.created_at              |\n",
      "|---:|:-----------------------|:--------------------------------------------------------------------------------------------------------------------------|:--------------------------|:---------------------------------|\n",
      "|  0 | Call with MetLife      | - Discussed FactSet's recent market performance; strong growth in analytics.                                              | 2025-01-18 00:00:00+00:00 | 2025-02-15 22:44:34.348563+00:00 |\n",
      "|    |                        | - MetLife interested in potential acquisition targets in data analytics sector.                                           |                           |                                  |\n",
      "|    |                        | - GE Vernova highlighted for its renewable energy initiatives; potential synergies with MetLife's sustainability goals.   |                           |                                  |\n",
      "|    |                        | - Ansys noted for its simulation software; could enhance MetLife's risk assessment capabilities.                          |                           |                                  |\n",
      "|    |                        | - Illinois Tool Works mentioned; focus on diversification and innovation in manufacturing.                                |                           |                                  |\n",
      "|    |                        | - Concerns raised about regulatory hurdles for acquisitions in tech and energy sectors.                                   |                           |                                  |\n",
      "|    |                        | - Dorothy suggested further analysis on valuation metrics for each firm.                                                  |                           |                                  |\n",
      "|    |                        | - Brandon emphasized the importance of aligning acquisitions with MetLife's long-term strategy.                           |                           |                                  |\n",
      "|    |                        | - Next steps: schedule follow-up meeting for deeper financial analysis.                                                   |                           |                                  |\n",
      "|  1 | Call with Wynn Resorts | ### Call Notes - Wynn Resorts Discussion                                                                                  | 2025-01-23 00:00:00+00:00 | 2025-02-15 22:44:34.348563+00:00 |\n",
      "|    |                        | **Date:** January 23, 2025                                                                                                |                           |                                  |\n",
      "|    |                        | **Participants:** Adriana Shepherd, Brandon Hobbs, Wynn Resorts Representatives                                           |                           |                                  |\n",
      "|    |                        |                                                                                                                           |                           |                                  |\n",
      "|    |                        | - Discussed potential synergies with FactSet's analytics capabilities.                                                    |                           |                                  |\n",
      "|    |                        | - FactSet's recent growth in financial data services noted as a positive.                                                 |                           |                                  |\n",
      "|    |                        | - Concerns raised about FactSet's valuation and market competition.                                                       |                           |                                  |\n",
      "|    |                        | - Norwegian Cruise Line Holdings' recovery post-pandemic highlighted.                                                     |                           |                                  |\n",
      "|    |                        | - Interest in NCLH's strategic partnerships and fleet expansion plans.                                                    |                           |                                  |\n",
      "|    |                        | - Potential risks with NCLH's debt levels discussed.                                                                      |                           |                                  |\n",
      "|    |                        | - Need for further analysis on both firms' market positioning.                                                            |                           |                                  |\n",
      "|    |                        | - Action item: Prepare detailed reports on FactSet and NCLH for next meeting.                                             |                           |                                  |\n",
      "|    |                        | - Next call scheduled for February 10, 2025.                                                                              |                           |                                  |\n"
     ]
    }
   ],
   "source": [
    "query = \"Give me a summary of meetings I have attended in the last month (employee_id: {}, current date: {}).\".format(user_id, \"2025-02-15\")\n",
    "\n",
    "with session_scope() as session:\n",
    "    response = agent.complete(session, query)\n",
    "\n",
    "response_md = response.to_markdown(index=True)\n",
    "print(response_md)"
   ]
  }
 ],
 "metadata": {
  "kernelspec": {
   "display_name": ".venv",
   "language": "python",
   "name": "python3"
  },
  "language_info": {
   "codemirror_mode": {
    "name": "ipython",
    "version": 3
   },
   "file_extension": ".py",
   "mimetype": "text/x-python",
   "name": "python",
   "nbconvert_exporter": "python",
   "pygments_lexer": "ipython3",
   "version": "3.13.2"
  }
 },
 "nbformat": 4,
 "nbformat_minor": 2
}
